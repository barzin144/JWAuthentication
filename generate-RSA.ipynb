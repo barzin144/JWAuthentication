{
 "cells": [
  {
   "cell_type": "code",
   "execution_count": null,
   "metadata": {
    "dotnet_interactive": {
     "language": "csharp"
    },
    "polyglot_notebook": {
     "kernelName": "csharp"
    }
   },
   "outputs": [],
   "source": [
    "using System.Security.Cryptography;\n",
    "using (var rsa = RSA.Create(2048))\n",
    "{\n",
    "\t// Export the private key\n",
    "\tvar privateKey = rsa.ExportRSAPrivateKey();\n",
    "\tvar privateKeyBase64 = Convert.ToBase64String(privateKey);\n",
    "\tConsole.WriteLine(\"Private Key:\");\n",
    "\tConsole.WriteLine(privateKeyBase64);\n",
    "\n",
    "\t// Export the public key\n",
    "\tvar publicKey = rsa.ExportRSAPublicKey();\n",
    "\tvar publicKeyBase64 = Convert.ToBase64String(publicKey);\n",
    "\tConsole.WriteLine(\"\\nPublic Key:\");\n",
    "\tConsole.WriteLine(publicKeyBase64);\n",
    "}"
   ]
  }
 ],
 "metadata": {
  "kernelspec": {
   "display_name": ".NET (C#)",
   "language": "C#",
   "name": ".net-csharp"
  },
  "polyglot_notebook": {
   "kernelInfo": {
    "defaultKernelName": "csharp",
    "items": [
     {
      "aliases": [],
      "name": "csharp"
     }
    ]
   }
  }
 },
 "nbformat": 4,
 "nbformat_minor": 2
}
