{
 "cells": [
  {
   "cell_type": "code",
   "execution_count": null,
   "metadata": {
    "dotnet_interactive": {
     "language": "csharp"
    },
    "polyglot_notebook": {
     "kernelName": "csharp"
    }
   },
   "outputs": [],
   "source": [
    "using System.Security.Cryptography;\n",
    " using (var rsa = RSA.Create(2048))\n",
    "        {\n",
    "            // Export the private key\n",
    "            var privateKey = rsa.ExportRSAPrivateKey();\n",
    "            var privateKeyBase64 = Convert.ToBase64String(privateKey);\n",
    "            Console.WriteLine(\"Private Key:\");\n",
    "            Console.WriteLine(privateKeyBase64);\n",
    "\n",
    "            // Export the public key\n",
    "            var publicKey = rsa.ExportRSAPublicKey();\n",
    "            var publicKeyBase64 = Convert.ToBase64String(publicKey);\n",
    "            Console.WriteLine(\"\\nPublic Key:\");\n",
    "            Console.WriteLine(publicKeyBase64);\n",
    "        }"
   ]
  }
 ],
 "metadata": {
  "kernelspec": {
   "display_name": ".NET (C#)",
   "language": "C#",
   "name": ".net-csharp"
  },
  "polyglot_notebook": {
   "kernelInfo": {
    "defaultKernelName": "csharp",
    "items": [
     {
      "aliases": [],
      "name": "csharp"
     }
    ]
   }
  }
 },
 "nbformat": 4,
 "nbformat_minor": 2
}
